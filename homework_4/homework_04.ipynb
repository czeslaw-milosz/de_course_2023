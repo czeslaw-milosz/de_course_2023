{
 "cells": [
  {
   "cell_type": "markdown",
   "id": "c4e92edb-ed00-468d-93cb-fc3e01899099",
   "metadata": {},
   "source": [
    "# Homework 04 (Build PySpark pipeline for the data transformation)\n",
    "\n",
    "## Radosław Jurczak\n",
    "\n",
    "-------------------------------------------------\n",
    "\n",
    "A docker network `de_network` is used, created by\n",
    "```{bash}\n",
    "docker network create de_network\n",
    "```\n",
    "\n",
    "Minio was run with the following command:\n",
    "```{bash}\n",
    "docker run -p 9000:9000 -p 9090:9090 --name minio --network=de_network -v ~/minio/data:/data -e \"MINIO_ROOT_USER=admin\" -e \"MINIO_ROOT_PASSWORD=adminadmin\" quay.io/minio/minio server /data --console-address \":9090\"\n",
    "```\n",
    "\n",
    "To run the code below, you'll need to create a minio bucket called `hw4`.\n",
    "\n",
    "The notebook was run inside docker, set up by\n",
    "```{bash}\n",
    "docker run \\\n",
    "-it -d --rm \\\n",
    "--network=de_network \\\n",
    "-p 10000:8888 -p 4041:4040 \\\n",
    "-v \"${PWD}\":/home/rj/data_engineering \\\n",
    "quay.io/jupyter/all-spark-notebook:2023-10-20\n",
    "```\n",
    "\n",
    "---------------------------------------------------\n",
    "The data regards transactions in an online store.\n",
    "\n",
    "I store the data in minio according to the __Star Schema__: there is a single long fact table recording `150 000` transaction events (`transaction_id`, `user_id`, `product_id`, `transaction_amount`, `units_sold`, `time_id`, `location_id`) and four dimension tables (on customers, products, time (e.g. exact date, month, quarter, year) and customer locations)."
   ]
  },
  {
   "cell_type": "markdown",
   "id": "890291c3-195d-4bc3-ab3a-1432783cb4ae",
   "metadata": {},
   "source": [
    "### Data generation:"
   ]
  },
  {
   "cell_type": "code",
   "execution_count": 1,
   "id": "753d8e67-7417-4399-ac54-a9907c621323",
   "metadata": {},
   "outputs": [
    {
     "name": "stdout",
     "output_type": "stream",
     "text": [
      "Requirement already satisfied: randomtimestamp in /opt/conda/lib/python3.11/site-packages (2.2)\n"
     ]
    }
   ],
   "source": [
    "!pip install randomtimestamp"
   ]
  },
  {
   "cell_type": "code",
   "execution_count": 2,
   "id": "1a70e949-0432-4ab7-9129-2d84ea0e09d9",
   "metadata": {},
   "outputs": [],
   "source": [
    "import datetime\n",
    "import random\n",
    "\n",
    "import randomtimestamp"
   ]
  },
  {
   "cell_type": "code",
   "execution_count": 3,
   "id": "adfc965e-5cec-4fc0-ab9d-82bdc2be1aaa",
   "metadata": {},
   "outputs": [],
   "source": [
    "N_TRANSACTIONS = 150_000\n",
    "N_CUSTOMERS = 10_000\n",
    "N_PRODUCTS = 5_000\n",
    "N_LOCATIONS = 30_000\n",
    "N_TIMES = 100_000\n",
    "\n",
    "N_CITIES = 10_000\n",
    "N_COUNTRIES = 195\n",
    "N_CONTINENTS = 6\n",
    "N_PRODUCT_CATEGORIES = 30"
   ]
  },
  {
   "cell_type": "markdown",
   "id": "2097c2ab-fe4f-42c7-9d5a-61d474c3dd6d",
   "metadata": {},
   "source": [
    "#### Customers dimension table: `customer_id`, `first_name`, `last_name`, `zip_code`, `is_company`, `discount`; the shop has 10_000 registered clients."
   ]
  },
  {
   "cell_type": "code",
   "execution_count": 4,
   "id": "bc40e4ad-9f1f-4a85-b0f9-7c7a1d313e84",
   "metadata": {},
   "outputs": [],
   "source": [
    "cities_aux = [f\"city_{i}\" for i in range(N_CITIES)]\n",
    "\n",
    "customers = [\n",
    "    (customer_id,\n",
    "     f\"first_name_{customer_id}\",\n",
    "     f\"last_name_{customer_id}\",\n",
    "     f\"{random.randint(0, 99)}-{random.randint(100, 999)}\",\n",
    "     random.choice([True, False]),\n",
    "     random.choice([0.0, 0.1, 0.15, 0.2])\n",
    "    )\n",
    "    for customer_id in range(N_CUSTOMERS)\n",
    "]"
   ]
  },
  {
   "cell_type": "markdown",
   "id": "3e1f5cb4-3558-4e40-9ae6-b07f13d9291e",
   "metadata": {},
   "source": [
    "#### Products dimension table: `product_id`, `product_name`, `product_category`, `unit_price`; the shop has 5_000 products on sale in 30 categories."
   ]
  },
  {
   "cell_type": "code",
   "execution_count": 5,
   "id": "0c398a80-a71b-45d4-b03d-d7d2f0633b70",
   "metadata": {},
   "outputs": [],
   "source": [
    "products = [\n",
    "    (product_id,\n",
    "     f\"product_name_{product_id}\",\n",
    "     f\"category_{random.randint(0, N_PRODUCT_CATEGORIES)}\",\n",
    "     round(random.uniform(0.5, 2000.0), 2),\n",
    "    )\n",
    "    for product_id in range(N_PRODUCTS)\n",
    "]"
   ]
  },
  {
   "cell_type": "markdown",
   "id": "16de33fe-ced3-4996-9387-dbc0b1e939e2",
   "metadata": {},
   "source": [
    "#### Locations dimension table: `location_id`, `location_name`, `country`, `continent`, `area_type`."
   ]
  },
  {
   "cell_type": "code",
   "execution_count": 6,
   "id": "f9b40b18-bcb8-42c5-a8cc-66caa057e3dd",
   "metadata": {},
   "outputs": [],
   "source": [
    "locations = [\n",
    "    (location_id,\n",
    "     f\"location_name_{location_id}\",\n",
    "     f\"country_{random.randint(0, N_COUNTRIES)}\",\n",
    "     f\"continent_{random.randint(0, N_CONTINENTS)}\",\n",
    "     random.choice([\"city\", \"town\", \"rural\"]),\n",
    "    )\n",
    "    for location_id in range(N_LOCATIONS)\n",
    "]"
   ]
  },
  {
   "cell_type": "markdown",
   "id": "adfa6af1-b4d6-4d56-8c35-c8b8cc04458b",
   "metadata": {},
   "source": [
    "#### Times dimension table: `time_id`, `timestamp`, `date`, `weekday`, `month`, `quarter`, `year`"
   ]
  },
  {
   "cell_type": "code",
   "execution_count": 7,
   "id": "c2c0d4d6-c2fe-4ebf-8786-563c89eb4d88",
   "metadata": {},
   "outputs": [],
   "source": [
    "times = []\n",
    "for i in range(N_TIMES):\n",
    "    timestamp = randomtimestamp.randomtimestamp(start_year=2022, end_year=2023)\n",
    "    times.append((\n",
    "        i,\n",
    "        timestamp,\n",
    "        timestamp.date(),\n",
    "        timestamp.weekday(),\n",
    "        timestamp.month,\n",
    "        (timestamp.month - 1)//3,\n",
    "        timestamp.year\n",
    "    ))"
   ]
  },
  {
   "cell_type": "markdown",
   "id": "8791126d-8a82-4cbf-a74a-db370e6336c2",
   "metadata": {},
   "source": [
    "#### Transaction events fact table: `transaction_id`, `customer_id`, `product_id`, `location_id`, `time_id`, `product_amount`"
   ]
  },
  {
   "cell_type": "code",
   "execution_count": 8,
   "id": "f79e9673-1dc3-470c-b341-2f71d7b00372",
   "metadata": {},
   "outputs": [],
   "source": [
    "transactions = [\n",
    "    (transaction_id,\n",
    "     random.randint(0, N_CUSTOMERS),\n",
    "     random.randint(0, N_PRODUCTS),\n",
    "     random.randint(0, N_LOCATIONS),\n",
    "     random.randint(0, N_TIMES),\n",
    "     random.randint(0, 500))\n",
    "    for transaction_id in range(N_TRANSACTIONS)\n",
    "]"
   ]
  },
  {
   "cell_type": "markdown",
   "id": "cdb01df9-447b-4028-893a-6e9a39344931",
   "metadata": {},
   "source": [
    "#### Convert everything to Spark, then save in Minio as parquet files organized according to the Star Schema model."
   ]
  },
  {
   "cell_type": "code",
   "execution_count": 9,
   "id": "88638bec-6b86-44f4-9656-e713207e6d3c",
   "metadata": {},
   "outputs": [],
   "source": [
    "from pyspark.conf import SparkConf\n",
    "from pyspark.context import SparkContext\n",
    "from pyspark.sql import SparkSession\n",
    "from pyspark.sql import functions as f\n",
    "from pyspark.sql.types import StringType"
   ]
  },
  {
   "cell_type": "code",
   "execution_count": 10,
   "id": "525c1a26-fbf0-4514-8e59-1afc198feee9",
   "metadata": {},
   "outputs": [],
   "source": [
    "spark_conf = (\n",
    "SparkConf().set(\"spark.jars.packages\", 'org.apache.hadoop:hadoop-client:3.3.4,org.apache.hadoop:hadoop-aws:3.3.4')\n",
    ".set(\"spark.driver.memory\", \"6g\")\n",
    ".set(\"spark.hadoop.fs.s3a.endpoint\", \"minio:9000\")\n",
    ".set(\"spark.hadoop.fs.s3a.access.key\", \"admin\")\n",
    ".set(\"spark.hadoop.fs.s3a.secret.key\", \"adminadmin\" )\n",
    ".set(\"spark.hadoop.fs.s3a.path.style.access\", \"true\")\n",
    ".set(\"spark.hadoop.fs.s3a.impl\", \"org.apache.hadoop.fs.s3a.S3AFileSystem\")\n",
    ".set('spark.hadoop.fs.s3a.aws.credentials.provider', 'org.apache.hadoop.fs.s3a.SimpleAWSCredentialsProvider')\n",
    ".set(\"spark.hadoop.fs.s3a.connection.ssl.enabled\", \"false\")\n",
    ")\n",
    "sc = SparkContext.getOrCreate(spark_conf)\n",
    "spark = SparkSession(sc)"
   ]
  },
  {
   "cell_type": "code",
   "execution_count": 11,
   "id": "246b6c37-80dd-4298-a1c1-9f0166d3a0ca",
   "metadata": {},
   "outputs": [
    {
     "name": "stdout",
     "output_type": "stream",
     "text": [
      "Transactions df created\n",
      "Customers df created\n",
      "Products df created\n",
      "Locations df created\n",
      "Times df created\n"
     ]
    }
   ],
   "source": [
    "transaction_df = spark.createDataFrame(transactions, [\"transaction_id\", \"customer_id\", \"product_id\", \"location_id\", \"time_id\", \"product_amount\"])\n",
    "print(\"Transactions df created\")\n",
    "customer_df = spark.createDataFrame(customers, [\"customer_id\", \"first_name\", \"last_name\", \"zip_code\", \"discount\"])\n",
    "print(\"Customers df created\")\n",
    "product_df = spark.createDataFrame(products, [\"product_id\", \"name\", \"category\", \"unit_price\"])\n",
    "print(\"Products df created\")\n",
    "location_df = spark.createDataFrame(locations, [\"location_id\", \"location_name\", \"country\", \"continent\", \"area_type\"])\n",
    "print(\"Locations df created\")\n",
    "time_df = spark.createDataFrame(times, [\"time_id\", \"timestamp\", \"date\", \"weekday\", \"month\", \"quarter\", \"year\"])\n",
    "print(\"Times df created\")"
   ]
  },
  {
   "cell_type": "code",
   "execution_count": 12,
   "id": "29001b94-12fa-43a0-91f3-92ab8d0c475e",
   "metadata": {},
   "outputs": [
    {
     "name": "stdout",
     "output_type": "stream",
     "text": [
      "Transactions df saved\n",
      "Customers df saved\n",
      "Products df saved\n",
      "Locations df saved\n",
      "Times df saved\n"
     ]
    }
   ],
   "source": [
    "transaction_df.write.format('parquet').mode('overwrite').save('s3a://hw4/transactions')\n",
    "print(\"Transactions df saved\")\n",
    "customer_df.write.format('parquet').mode('overwrite').save('s3a://hw4/customers')\n",
    "print(\"Customers df saved\")\n",
    "product_df.write.format('parquet').mode('overwrite').save('s3a://hw4/products')\n",
    "print(\"Products df saved\")\n",
    "location_df.write.format('parquet').mode('overwrite').save('s3a://hw4/locations')\n",
    "print(\"Locations df saved\")\n",
    "time_df.write.format('parquet').mode('overwrite').save('s3a://hw4/times')\n",
    "print(\"Times df saved\")"
   ]
  },
  {
   "cell_type": "markdown",
   "id": "f57b8d42-b1fe-4b90-b8f6-e267c556cbca",
   "metadata": {},
   "source": [
    "#### Retrieve data and create a report: top 10 product categories by sales revenue in the first half of the year 2023"
   ]
  },
  {
   "cell_type": "code",
   "execution_count": 13,
   "id": "9ba0a260-3aad-484c-a7d6-cb89711af602",
   "metadata": {},
   "outputs": [
    {
     "name": "stdout",
     "output_type": "stream",
     "text": [
      "root\n",
      " |-- transaction_id: long (nullable = true)\n",
      " |-- customer_id: long (nullable = true)\n",
      " |-- product_id: long (nullable = true)\n",
      " |-- location_id: long (nullable = true)\n",
      " |-- time_id: long (nullable = true)\n",
      " |-- product_amount: long (nullable = true)\n",
      "\n"
     ]
    }
   ],
   "source": [
    "transaction_df = spark.read.format(\"parquet\").load('s3a://hw4/transactions')\n",
    "transaction_df.printSchema()"
   ]
  },
  {
   "cell_type": "code",
   "execution_count": 14,
   "id": "e85a5de4-03d9-412c-9903-c12f18c86f02",
   "metadata": {},
   "outputs": [
    {
     "name": "stdout",
     "output_type": "stream",
     "text": [
      "root\n",
      " |-- product_id: long (nullable = true)\n",
      " |-- name: string (nullable = true)\n",
      " |-- category: string (nullable = true)\n",
      " |-- unit_price: double (nullable = true)\n",
      "\n"
     ]
    }
   ],
   "source": [
    "product_df = spark.read.format(\"parquet\").load('s3a://hw4/products')\n",
    "product_df.printSchema()"
   ]
  },
  {
   "cell_type": "code",
   "execution_count": 15,
   "id": "55321014-9c75-4d04-9d96-05f5bf33e589",
   "metadata": {},
   "outputs": [
    {
     "name": "stdout",
     "output_type": "stream",
     "text": [
      "root\n",
      " |-- time_id: long (nullable = true)\n",
      " |-- timestamp: timestamp (nullable = true)\n",
      " |-- date: date (nullable = true)\n",
      " |-- weekday: long (nullable = true)\n",
      " |-- month: long (nullable = true)\n",
      " |-- quarter: long (nullable = true)\n",
      " |-- year: long (nullable = true)\n",
      "\n"
     ]
    }
   ],
   "source": [
    "time_df = spark.read.format(\"parquet\").load('s3a://hw4/times')\n",
    "time_df.printSchema()"
   ]
  },
  {
   "cell_type": "code",
   "execution_count": 16,
   "id": "1968987f-63a0-4578-ab16-353b8c7c5fe5",
   "metadata": {},
   "outputs": [
    {
     "name": "stdout",
     "output_type": "stream",
     "text": [
      "10 categories that generated most revenue in the first two quarters of 2023:\n",
      "+-----------+--------------------+\n",
      "|   category|       total_revenue|\n",
      "+-----------+--------------------+\n",
      "| category_8|       3.758324464E8|\n",
      "| category_5|      3.5610826225E8|\n",
      "|category_13| 3.319138924000001E8|\n",
      "| category_0|      3.2437222756E8|\n",
      "| category_6|3.1898830100000006E8|\n",
      "|category_14|      3.1811856803E8|\n",
      "|category_25|3.1694807359999996E8|\n",
      "| category_1|3.0797836798999995E8|\n",
      "|category_29|      3.0713342208E8|\n",
      "|category_22| 3.065464972800001E8|\n",
      "+-----------+--------------------+\n",
      "\n"
     ]
    }
   ],
   "source": [
    "report = transaction_df.join(\n",
    "    product_df, on=\"product_id\"\n",
    ").join(\n",
    "    time_df, on=\"time_id\"\n",
    ").withColumn(\n",
    "    \"revenue\", f.round(f.col(\"product_amount\") * f.col(\"unit_price\"), 2)\n",
    ").select(\n",
    "    \"category\", \"quarter\", \"year\", \"revenue\"\n",
    ").filter(\n",
    "    (f.col(\"year\") == 2023) & (f.col(\"quarter\").isin({0, 1}))\n",
    ").select(\n",
    "    \"category\", \"revenue\"\n",
    ").groupby(\"category\").agg(\n",
    "    f.sum(\"revenue\").alias(\"total_revenue\")\n",
    ").sort(\"total_revenue\", ascending=False).limit(10)\n",
    "print(\"10 categories that generated most revenue in the first two quarters of 2023:\")\n",
    "report.show()"
   ]
  },
  {
   "cell_type": "code",
   "execution_count": null,
   "id": "ab98264e-4989-497c-bc25-c45a7b1b6bb5",
   "metadata": {},
   "outputs": [],
   "source": []
  }
 ],
 "metadata": {
  "kernelspec": {
   "display_name": "Python 3 (ipykernel)",
   "language": "python",
   "name": "python3"
  },
  "language_info": {
   "codemirror_mode": {
    "name": "ipython",
    "version": 3
   },
   "file_extension": ".py",
   "mimetype": "text/x-python",
   "name": "python",
   "nbconvert_exporter": "python",
   "pygments_lexer": "ipython3",
   "version": "3.11.6"
  }
 },
 "nbformat": 4,
 "nbformat_minor": 5
}
