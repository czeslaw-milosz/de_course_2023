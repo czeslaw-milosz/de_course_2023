{
 "cells": [
  {
   "cell_type": "markdown",
   "id": "765e8406-d24b-4f4f-a48e-fef190c04627",
   "metadata": {},
   "source": [
    "# Homework 07 (streams)\n",
    "\n",
    "## Radosław Jurczak\n",
    "\n",
    "-------------------------------------------------\n",
    "\n",
    "A docker network `de_network` is used, created by\n",
    "```{bash}\n",
    "docker network create de_network\n",
    "```\n",
    "\n",
    "Minio was run with the following command:\n",
    "```{bash}\n",
    "docker run -p 9000:9000 -p 9090:9090 --name minio --network=de_network -v ~/minio/data:/data -e \"MINIO_ROOT_USER=admin\" -e \"MINIO_ROOT_PASSWORD=adminadmin\" quay.io/minio/minio server /data --console-address \":9090\"\n",
    "```\n",
    "\n",
    "Pulsar was instantiated with the following command:\n",
    "```{bash}\n",
    "docker run -it --rm \\\n",
    "  --name standalone-pulsar \\\n",
    "   --network=de_network \\\n",
    "  -p 6650:6650  \\\n",
    "  -p 8080:8080 \\\n",
    "  --mount source=pulsardata,target=$(pwd)/pulsar/data \\\n",
    "  --mount source=pulsarconf,target=$(pwd)/pulsar/conf \\\n",
    "  apachepulsar/pulsar:2.10.0 sh \\\n",
    "  -c \"bin/apply-config-from-env.py \\\n",
    "  conf/standalone.conf && \\\n",
    "  bin/pulsar standalone\"\n",
    "```\n",
    "\n",
    "To succesfully run the code below, you'll need to create a minio bucket called `hw7`.\n",
    "\n",
    "The notebook was run inside docker, set up by\n",
    "```{bash}\n",
    "docker run \\\n",
    "-it -d --rm \\\n",
    "--network=de_network \\\n",
    "-p 10000:8888 -p 4041:4040 \\\n",
    "-v \"${PWD}\":/home/rj/data_engineering \\\n",
    "quay.io/jupyter/all-spark-notebook:spark-3.4.0\n",
    "```"
   ]
  },
  {
   "cell_type": "code",
   "execution_count": 1,
   "id": "23c0b6e6-de3d-4893-9aa0-9e149d4e96c8",
   "metadata": {},
   "outputs": [
    {
     "name": "stdout",
     "output_type": "stream",
     "text": [
      "Requirement already satisfied: delta-spark==2.4.0 in /opt/conda/lib/python3.11/site-packages (2.4.0)\n",
      "Requirement already satisfied: pulsar-client[avro] in /opt/conda/lib/python3.11/site-packages (3.3.0)\n",
      "Requirement already satisfied: pyspark<3.5.0,>=3.4.0 in /usr/local/spark/python (from delta-spark==2.4.0) (3.4.0)\n",
      "Requirement already satisfied: importlib-metadata>=1.0.0 in /opt/conda/lib/python3.11/site-packages (from delta-spark==2.4.0) (6.7.0)\n",
      "Requirement already satisfied: certifi in /opt/conda/lib/python3.11/site-packages (from pulsar-client[avro]) (2023.5.7)\n",
      "Requirement already satisfied: fastavro==1.7.3 in /opt/conda/lib/python3.11/site-packages (from pulsar-client[avro]) (1.7.3)\n",
      "Requirement already satisfied: zipp>=0.5 in /opt/conda/lib/python3.11/site-packages (from importlib-metadata>=1.0.0->delta-spark==2.4.0) (3.15.0)\n",
      "Requirement already satisfied: py4j==0.10.9.7 in /opt/conda/lib/python3.11/site-packages (from pyspark<3.5.0,>=3.4.0->delta-spark==2.4.0) (0.10.9.7)\n",
      "Requirement already satisfied: randomtimestamp in /opt/conda/lib/python3.11/site-packages (2.2)\n"
     ]
    }
   ],
   "source": [
    "!pip install delta-spark==2.4.0 pulsar-client[avro]\n",
    "!pip install randomtimestamp"
   ]
  },
  {
   "cell_type": "code",
   "execution_count": 2,
   "id": "2a140a2b-369c-4b54-9a95-be43fe6323dd",
   "metadata": {},
   "outputs": [],
   "source": [
    "import random \n",
    "\n",
    "import pulsar\n",
    "import randomtimestamp\n",
    "from fastavro.schema import parse_schema\n",
    "from pulsar import schema as pulsar_schema\n",
    "from pyspark.conf import SparkConf\n",
    "from pyspark.context import SparkContext\n",
    "from pyspark.streaming import StreamingContext\n",
    "from pyspark.sql import SparkSession\n",
    "from pyspark.sql import functions as f\n",
    "from tqdm import tqdm"
   ]
  },
  {
   "cell_type": "code",
   "execution_count": 3,
   "id": "2769e27b-b3c4-409e-895c-aca1ce96cac4",
   "metadata": {},
   "outputs": [],
   "source": [
    "spark_conf = (\n",
    "    SparkConf()\n",
    "    .setAppName(\"DemoPipeline\")\n",
    "    .set(\"spark.jars.packages\", 'org.apache.hadoop:hadoop-client:3.3.4'\n",
    "         ',org.apache.hadoop:hadoop-aws:3.3.4'\n",
    "         ',io.delta:delta-core_2.12:2.4.0'\n",
    "         ',io.streamnative.connectors:pulsar-spark-connector_2.12:3.4.0.3'\n",
    "        )\n",
    "    .set(\"spark.driver.memory\", \"6g\")\n",
    "    .set(\"spark.hadoop.fs.s3a.endpoint\", \"minio:9000\")\n",
    "    .set(\"spark.hadoop.fs.s3a.access.key\", \"admin\")\n",
    "    .set(\"spark.hadoop.fs.s3a.secret.key\", \"adminadmin\" )\n",
    "    .set(\"spark.hadoop.fs.s3a.path.style.access\", \"true\") \n",
    "    .set(\"spark.hadoop.fs.s3a.impl\", \"org.apache.hadoop.fs.s3a.S3AFileSystem\")\n",
    "    .set('spark.hadoop.fs.s3a.aws.credentials.provider', 'org.apache.hadoop.fs.s3a.SimpleAWSCredentialsProvider')\n",
    "    .set(\"spark.hadoop.fs.s3a.connection.ssl.enabled\", \"false\")\n",
    "    .set(\"spark.sql.extensions\", \"io.delta.sql.DeltaSparkSessionExtension\") \n",
    "    .set(\"spark.sql.catalog.spark_catalog\", \"org.apache.spark.sql.delta.catalog.DeltaCatalog\")\n",
    ")\n",
    "\n",
    "sc = SparkContext.getOrCreate(spark_conf)\n",
    "spark = SparkSession(sc)"
   ]
  },
  {
   "cell_type": "code",
   "execution_count": 4,
   "id": "71308e92-ac3a-45d7-8edc-3f5eefd6c67b",
   "metadata": {},
   "outputs": [
    {
     "name": "stdout",
     "output_type": "stream",
     "text": [
      "Hadoop version = 3.3.4\n",
      "Spark version = 3.4.0\n"
     ]
    }
   ],
   "source": [
    "print(f\"Hadoop version = {spark._jvm.org.apache.hadoop.util.VersionInfo.getVersion()}\")\n",
    "print(f\"Spark version = {spark.version}\")"
   ]
  },
  {
   "cell_type": "code",
   "execution_count": 5,
   "id": "2763ee9f-6176-46aa-959c-008cb86d57fc",
   "metadata": {},
   "outputs": [],
   "source": [
    "N_EVENTS = 50_000\n",
    "N_BANKS = 1_000\n",
    "N_LOCATIONS = 1_000\n",
    "N_COUNTRIES = 195"
   ]
  },
  {
   "cell_type": "markdown",
   "id": "28fd8226-1496-40d7-b08e-f9105b5ebd5b",
   "metadata": {},
   "source": [
    "#### Generate static datasets:\n",
    " - time-indexed dataset of 50 000 transactions: `timestamp`, `sender`, `receiver`, `amount`; a small random subset (~2%) of transactions get null sender;\n",
    " - bank dataset for enrichment, containing detailed info about sender/receiver banks: `bank_id`, `location_id`, `full_name`, `license_number`, `country`"
   ]
  },
  {
   "cell_type": "code",
   "execution_count": 6,
   "id": "a41558a4-a116-4623-a84e-0f3964e1ff72",
   "metadata": {},
   "outputs": [
    {
     "name": "stderr",
     "output_type": "stream",
     "text": [
      "100%|██████████| 50000/50000 [00:00<00:00, 143089.56it/s]\n"
     ]
    },
    {
     "name": "stdout",
     "output_type": "stream",
     "text": [
      "root\n",
      " |-- timestamp: timestamp (nullable = true)\n",
      " |-- sender: string (nullable = true)\n",
      " |-- receiver: string (nullable = true)\n",
      " |-- amount: double (nullable = true)\n",
      "\n"
     ]
    }
   ],
   "source": [
    "transactions = [\n",
    "    [randomtimestamp.randomtimestamp(start_year=2022, end_year=2023),\n",
    "     f\"bank_{random.randint(0, N_BANKS-1)}\",\n",
    "     f\"bank_{random.randint(0, N_BANKS-1)}\",\n",
    "     round(random.uniform(0.5, 5_000_000), 2),\n",
    "    ]\n",
    "    for i in tqdm(range(N_EVENTS))\n",
    "]\n",
    "null_sender_events = random.sample(list(range(0, N_EVENTS-1)), int(0.02*N_EVENTS))\n",
    "for i in null_sender_events:\n",
    "    transactions[i][1] = None\n",
    "transaction_df = spark.createDataFrame(transactions, [\"timestamp\", \"sender\", \"receiver\", \"amount\"])\n",
    "transaction_df.printSchema()"
   ]
  },
  {
   "cell_type": "code",
   "execution_count": 7,
   "id": "0fafb74f-a6a4-4670-acae-d0a5f3d6a671",
   "metadata": {},
   "outputs": [
    {
     "name": "stderr",
     "output_type": "stream",
     "text": [
      "100%|██████████| 1000/1000 [00:00<00:00, 155057.45it/s]"
     ]
    },
    {
     "name": "stdout",
     "output_type": "stream",
     "text": [
      "root\n",
      " |-- bank_id: string (nullable = true)\n",
      " |-- location_id: string (nullable = true)\n",
      " |-- full_name: string (nullable = true)\n",
      " |-- license_id: long (nullable = true)\n",
      " |-- country: string (nullable = true)\n",
      "\n"
     ]
    },
    {
     "name": "stderr",
     "output_type": "stream",
     "text": [
      "\n"
     ]
    }
   ],
   "source": [
    "banks = [\n",
    "    (f\"bank_{i}\",\n",
    "     f\"location_{random.randint(0, N_LOCATIONS-1)}\",\n",
    "     f\"full_name_{i}\",\n",
    "     int(\"\".join(random.sample(\"12344567890\", 7))),\n",
    "     f\"country_{random.randint(0, N_COUNTRIES)}\",\n",
    "    )\n",
    "    for i in tqdm(range(N_BANKS))\n",
    "]\n",
    "bank_df = spark.createDataFrame(banks, [\"bank_id\", \"location_id\", \"full_name\", \"license_id\", \"country\"])\n",
    "bank_df.printSchema()"
   ]
  },
  {
   "cell_type": "code",
   "execution_count": 8,
   "id": "1e44a023-7b89-4378-96f5-8e3b1655bcdd",
   "metadata": {},
   "outputs": [],
   "source": [
    "transaction_df.write.format(\"parquet\").mode(\"overwrite\").save(\"s3a://hw7/transaction\")\n",
    "bank_df.write.format(\"parquet\").mode(\"overwrite\").save(\"s3a://hw7/bank\")"
   ]
  },
  {
   "cell_type": "markdown",
   "id": "f7269d16-753c-4ac9-a5f6-e3b445d8c11f",
   "metadata": {},
   "source": [
    "#### Push the time-indexed transactions dataset to Pulsar\n",
    "(if you're running the code live, please wait a while after `writeStream()` until Pulsar processes everything)"
   ]
  },
  {
   "cell_type": "code",
   "execution_count": 9,
   "id": "fe98e422-6997-497b-8d5e-038e55b0de06",
   "metadata": {},
   "outputs": [],
   "source": [
    "ref = spark.read.load(\"s3a://hw7/transaction\")\n",
    "transaction_streaming_df = spark.readStream.format('parquet').schema(ref.schema).load(\"s3a://hw7/transaction\") "
   ]
  },
  {
   "cell_type": "code",
   "execution_count": 10,
   "id": "711c7a19-e449-45f3-b101-a43919371198",
   "metadata": {},
   "outputs": [],
   "source": [
    "avro_schema = parse_schema(\n",
    "{\n",
    "  \"type\" : \"record\",\n",
    "  \"name\" : \"transactions\",\n",
    "  \"fields\" : [ {\n",
    "    \"name\" : \"timestamp\",\n",
    "    \"type\" : [ {\"type\": \"long\", \"logicalType\": \"timestamp-millis\"}, \"null\" ]\n",
    "  }, {\n",
    "    \"name\" : \"sender\",\n",
    "    \"type\" : [ \"string\", \"null\" ]\n",
    "  }, {\n",
    "    \"name\" : \"receiver\",\n",
    "    \"type\" : [ \"string\", \"null\" ]\n",
    "  }, {\n",
    "    \"name\" : \"amount\",\n",
    "    \"type\" : [ \"double\", \"null\" ]\n",
    "  } ]\n",
    "} \n",
    ")\n",
    "\n",
    "client = pulsar.Client(\"pulsar://standalone-pulsar:6650\")\n",
    "producer = client.create_producer(\n",
    "    topic=\"persistent://public/default/transactions\",\n",
    "    schema=pulsar_schema.AvroSchema(None, schema_definition=avro_schema)\n",
    ")"
   ]
  },
  {
   "cell_type": "code",
   "execution_count": 11,
   "id": "47c4cabd-312d-430f-b299-3c46feab84f7",
   "metadata": {},
   "outputs": [],
   "source": [
    "transaction_writer = transaction_streaming_df.writeStream \\\n",
    "  .format(\"pulsar\") \\\n",
    "  .option(\"service.url\", \"pulsar://standalone-pulsar:6650\") \\\n",
    "  .option(\"admin.url\", \"pulsar://standalone-pulsar:8080\") \\\n",
    "  .option(\"topic\", \"persistent://public/default/transactions\") \\\n",
    "  .option(\"pulsar.client.tlsAllowInsecureConnection\",\"true\") \\\n",
    "  .option(\"pulsar.client.tlsHostnameVerificationenable\",\"false\") \\\n",
    "  .option(\"checkpointLocation\", './checkpoints-pulsar1') \\\n",
    "    .start()"
   ]
  },
  {
   "cell_type": "code",
   "execution_count": 12,
   "id": "5d4c4ba8-4686-4966-a9fc-b810ea0c3665",
   "metadata": {},
   "outputs": [
    {
     "data": {
      "text/plain": [
       "{'message': 'Getting offsets from FileStreamSource[s3a://hw7/transaction]',\n",
       " 'isDataAvailable': False,\n",
       " 'isTriggerActive': True}"
      ]
     },
     "execution_count": 12,
     "metadata": {},
     "output_type": "execute_result"
    }
   ],
   "source": [
    "transaction_writer.status"
   ]
  },
  {
   "cell_type": "code",
   "execution_count": 13,
   "id": "8cb5852a-0a2a-4f2a-a424-8a3baab1ffcb",
   "metadata": {},
   "outputs": [
    {
     "data": {
      "text/plain": [
       "{'message': 'Waiting for data to arrive',\n",
       " 'isDataAvailable': False,\n",
       " 'isTriggerActive': False}"
      ]
     },
     "execution_count": 13,
     "metadata": {},
     "output_type": "execute_result"
    }
   ],
   "source": [
    "transaction_writer.status"
   ]
  },
  {
   "cell_type": "markdown",
   "id": "9a10f256-ec57-4b0a-bd86-6cc884c99bc8",
   "metadata": {},
   "source": [
    "#### Read data from Pulsar, dropping transactions with empty sender"
   ]
  },
  {
   "cell_type": "code",
   "execution_count": 14,
   "id": "b643e73e-8368-4eac-9186-1f46f9d48686",
   "metadata": {},
   "outputs": [],
   "source": [
    "pulsar_transaction_df = spark \\\n",
    "  .readStream \\\n",
    "  .format(\"pulsar\") \\\n",
    "  .option(\"service.url\", \"pulsar://standalone-pulsar:6650\") \\\n",
    "  .option(\"admin.url\", \"pulsar://standalone-pulsar:8080\") \\\n",
    "  .option(\"topic\", \"persistent://public/default/transactions\") \\\n",
    "  .option(\"pulsar.client.tlsAllowInsecureConnection\",\"true\") \\\n",
    "  .option(\"pulsar.client.tlsHostnameVerificationenable\",\"false\") \\\n",
    "  .option(\"checkpointLocation\", './checkpoints-pulsar2') \\\n",
    "  .load() \\\n",
    ".filter(f.col(\"sender\").isNotNull())"
   ]
  },
  {
   "cell_type": "code",
   "execution_count": 15,
   "id": "38e19b01-629b-4210-abb2-5e0da18bdd52",
   "metadata": {},
   "outputs": [
    {
     "name": "stdout",
     "output_type": "stream",
     "text": [
      "root\n",
      " |-- timestamp: timestamp (nullable = true)\n",
      " |-- sender: string (nullable = true)\n",
      " |-- receiver: string (nullable = true)\n",
      " |-- amount: double (nullable = true)\n",
      " |-- __key: binary (nullable = true)\n",
      " |-- __topic: string (nullable = true)\n",
      " |-- __messageId: binary (nullable = true)\n",
      " |-- __publishTime: timestamp (nullable = true)\n",
      " |-- __eventTime: timestamp (nullable = true)\n",
      " |-- __messageProperties: map (nullable = true)\n",
      " |    |-- key: string\n",
      " |    |-- value: string (valueContainsNull = true)\n",
      "\n"
     ]
    }
   ],
   "source": [
    "pulsar_transaction_df.printSchema()"
   ]
  },
  {
   "cell_type": "markdown",
   "id": "18c0854d-20bd-4088-9e27-edea5134d94e",
   "metadata": {},
   "source": [
    "#### Enrich the stream with information about the sender bank from `banks` dataset\n",
    "(of course this is just an exercise, in real life we could want to add info about the receiver, aliasing some columns etc.)"
   ]
  },
  {
   "cell_type": "code",
   "execution_count": 16,
   "id": "37038766-3b18-4e22-89ba-53e1e78111ef",
   "metadata": {},
   "outputs": [],
   "source": [
    "pulsar_transaction_df = pulsar_transaction_df.join(\n",
    "    bank_df, [pulsar_transaction_df.sender == bank_df.bank_id], \"left\"\n",
    ")"
   ]
  },
  {
   "cell_type": "code",
   "execution_count": 17,
   "id": "5e87a6e3-2f1c-4269-bb9b-b6bb65f3cce5",
   "metadata": {},
   "outputs": [
    {
     "name": "stdout",
     "output_type": "stream",
     "text": [
      "root\n",
      " |-- timestamp: timestamp (nullable = true)\n",
      " |-- sender: string (nullable = true)\n",
      " |-- receiver: string (nullable = true)\n",
      " |-- amount: double (nullable = true)\n",
      " |-- __key: binary (nullable = true)\n",
      " |-- __topic: string (nullable = true)\n",
      " |-- __messageId: binary (nullable = true)\n",
      " |-- __publishTime: timestamp (nullable = true)\n",
      " |-- __eventTime: timestamp (nullable = true)\n",
      " |-- __messageProperties: map (nullable = true)\n",
      " |    |-- key: string\n",
      " |    |-- value: string (valueContainsNull = true)\n",
      " |-- bank_id: string (nullable = true)\n",
      " |-- location_id: string (nullable = true)\n",
      " |-- full_name: string (nullable = true)\n",
      " |-- license_id: long (nullable = true)\n",
      " |-- country: string (nullable = true)\n",
      "\n"
     ]
    }
   ],
   "source": [
    "pulsar_transaction_df.printSchema()"
   ]
  },
  {
   "cell_type": "markdown",
   "id": "c30020f9-6aba-48d9-a906-6d92a91032dc",
   "metadata": {},
   "source": [
    "#### Apply a window aggregation over the stream: average transaction value per sender bank; \n",
    "#### Store result to delta lake, read again from delta and display it to demonstrate that the aggregation worked\n",
    "\n",
    "(again, if running the code live, please wait a little after `writeStream`)"
   ]
  },
  {
   "cell_type": "code",
   "execution_count": 18,
   "id": "425bb746-08cd-49cb-afea-90a301a028af",
   "metadata": {},
   "outputs": [],
   "source": [
    "avg_transaction_by_sender = pulsar_transaction_df.groupby(\n",
    "    f.window(f.col(\"__publishTime\"), \"10 seconds\", \"5 seconds\"),\n",
    "    f.col(\"sender\")\n",
    ").agg(\n",
    "    f.first(\"full_name\").alias(\"sender_bank_full_name\"),\n",
    "    f.first(\"license_id\").alias(\"sender_bank_license_number\"),\n",
    "    f.round(f.avg(\"amount\"), 2).alias(\"average_transaction_amount\")\n",
    ")"
   ]
  },
  {
   "cell_type": "code",
   "execution_count": 19,
   "id": "3b7daaf8-b077-4a88-870e-14b423b8aea6",
   "metadata": {},
   "outputs": [
    {
     "name": "stdout",
     "output_type": "stream",
     "text": [
      "root\n",
      " |-- window: struct (nullable = true)\n",
      " |    |-- start: timestamp (nullable = true)\n",
      " |    |-- end: timestamp (nullable = true)\n",
      " |-- sender: string (nullable = true)\n",
      " |-- sender_bank_full_name: string (nullable = true)\n",
      " |-- sender_bank_license_number: long (nullable = true)\n",
      " |-- average_transaction_amount: double (nullable = true)\n",
      "\n"
     ]
    }
   ],
   "source": [
    "avg_transaction_by_sender.printSchema()"
   ]
  },
  {
   "cell_type": "code",
   "execution_count": 20,
   "id": "06e13191-80dd-4660-b519-e1ea8ad9eb02",
   "metadata": {},
   "outputs": [
    {
     "data": {
      "text/plain": [
       "{'message': 'Initializing sources',\n",
       " 'isDataAvailable': False,\n",
       " 'isTriggerActive': False}"
      ]
     },
     "execution_count": 20,
     "metadata": {},
     "output_type": "execute_result"
    }
   ],
   "source": [
    "avg_df_writer = avg_transaction_by_sender.writeStream \\\n",
    "   .format(\"delta\") \\\n",
    "   .outputMode(\"complete\") \\\n",
    "   .option(\"checkpointLocation\", \"./checkpoints-avg\") \\\n",
    "   .start(\"s3a://hw7/avg_transaction_by_sender/\")\n",
    "avg_df_writer.status"
   ]
  },
  {
   "cell_type": "code",
   "execution_count": 21,
   "id": "43a59b3c-a34f-4ef6-8cef-6556aedcf0c5",
   "metadata": {},
   "outputs": [
    {
     "data": {
      "text/plain": [
       "{'message': 'Processing new data',\n",
       " 'isDataAvailable': True,\n",
       " 'isTriggerActive': True}"
      ]
     },
     "execution_count": 21,
     "metadata": {},
     "output_type": "execute_result"
    }
   ],
   "source": [
    "avg_df_writer.status"
   ]
  },
  {
   "cell_type": "code",
   "execution_count": 24,
   "id": "b8758b23-ee8c-4aaf-bf56-8bee837e5bf2",
   "metadata": {},
   "outputs": [
    {
     "data": {
      "text/plain": [
       "{'message': 'Waiting for data to arrive',\n",
       " 'isDataAvailable': False,\n",
       " 'isTriggerActive': False}"
      ]
     },
     "execution_count": 24,
     "metadata": {},
     "output_type": "execute_result"
    }
   ],
   "source": [
    "avg_df_writer.status"
   ]
  },
  {
   "cell_type": "code",
   "execution_count": 25,
   "id": "4fea4878-4abd-4f35-b77f-e9e1bae6c9e3",
   "metadata": {},
   "outputs": [
    {
     "name": "stdout",
     "output_type": "stream",
     "text": [
      "+--------------------+--------+---------------------+--------------------------+--------------------------+\n",
      "|              window|  sender|sender_bank_full_name|sender_bank_license_number|average_transaction_amount|\n",
      "+--------------------+--------+---------------------+--------------------------+--------------------------+\n",
      "|{2023-12-27 23:33...|bank_139|        full_name_139|                   9740163|                  74260.06|\n",
      "|{2023-12-27 23:33...|bank_366|        full_name_366|                   1745964|                1867323.71|\n",
      "|{2023-12-27 23:33...|bank_115|        full_name_115|                   3125644|                1958504.28|\n",
      "|{2023-12-27 23:33...|bank_386|        full_name_386|                   4021657|                 899371.39|\n",
      "|{2023-12-27 23:33...|bank_414|        full_name_414|                   6071853|                3265484.82|\n",
      "|{2023-12-27 23:33...| bank_46|         full_name_46|                    763924|                    745.93|\n",
      "|{2023-12-27 23:33...|bank_634|        full_name_634|                   2489107|                  99916.26|\n",
      "|{2023-12-27 23:33...|bank_675|        full_name_675|                   6404295|                3619475.75|\n",
      "|{2023-12-27 23:33...|bank_743|        full_name_743|                   5093184|                4944602.54|\n",
      "|{2023-12-27 23:33...|bank_913|        full_name_913|                   5124347|                2951446.07|\n",
      "|{2023-12-27 23:59...|bank_151|        full_name_151|                   7109368|                2301934.27|\n",
      "|{2023-12-27 23:59...|bank_435|        full_name_435|                   9843217|                2447499.05|\n",
      "|{2023-12-27 23:59...|bank_534|        full_name_534|                   4906234|                2842463.03|\n",
      "|{2023-12-27 23:59...|bank_573|        full_name_573|                   7436954|                2672000.74|\n",
      "|{2023-12-27 23:59...|bank_659|        full_name_659|                   5844970|                2486254.64|\n",
      "|{2023-12-27 23:59...|bank_728|        full_name_728|                   6275193|                3009781.04|\n",
      "|{2023-12-27 23:59...|bank_952|        full_name_952|                   3798604|                2705449.38|\n",
      "|{2023-12-27 23:59...|bank_109|        full_name_109|                   6849170|                2949463.48|\n",
      "|{2023-12-27 23:59...|bank_351|        full_name_351|                    198445|                2574692.65|\n",
      "|{2023-12-27 23:59...|bank_413|        full_name_413|                   7832045|                2275812.92|\n",
      "+--------------------+--------+---------------------+--------------------------+--------------------------+\n",
      "only showing top 20 rows\n",
      "\n"
     ]
    }
   ],
   "source": [
    "spark.read.format(\"delta\").load(\"s3a://hw7/avg_transaction_by_sender/\").show()"
   ]
  },
  {
   "cell_type": "markdown",
   "id": "93c775d9-a234-4daf-9489-5b35e1fd7f82",
   "metadata": {},
   "source": [
    "#### Store the whole enriched transactions stream to delta lake, just in case"
   ]
  },
  {
   "cell_type": "code",
   "execution_count": 26,
   "id": "9f8016b6-1707-43a4-ba40-4e0b942a8271",
   "metadata": {},
   "outputs": [
    {
     "data": {
      "text/plain": [
       "{'message': 'Initializing StreamExecution',\n",
       " 'isDataAvailable': False,\n",
       " 'isTriggerActive': False}"
      ]
     },
     "execution_count": 26,
     "metadata": {},
     "output_type": "execute_result"
    }
   ],
   "source": [
    "transaction_df_writer = pulsar_transaction_df.writeStream \\\n",
    "   .format(\"delta\") \\\n",
    "   .option(\"checkpointLocation\", \"./checkpoints-full\") \\\n",
    "   .start(\"s3a://hw7/transaction_enriched/\")\n",
    "transaction_df_writer.status"
   ]
  },
  {
   "cell_type": "code",
   "execution_count": 27,
   "id": "625b3e1c-470b-4494-92f2-429b86906850",
   "metadata": {},
   "outputs": [
    {
     "data": {
      "text/plain": [
       "{'message': 'Processing new data',\n",
       " 'isDataAvailable': True,\n",
       " 'isTriggerActive': True}"
      ]
     },
     "execution_count": 27,
     "metadata": {},
     "output_type": "execute_result"
    }
   ],
   "source": [
    "transaction_df_writer.status"
   ]
  },
  {
   "cell_type": "code",
   "execution_count": 28,
   "id": "62485932-6018-4eca-9ab2-22e66f18da7e",
   "metadata": {},
   "outputs": [
    {
     "data": {
      "text/plain": [
       "{'message': 'Waiting for data to arrive',\n",
       " 'isDataAvailable': False,\n",
       " 'isTriggerActive': False}"
      ]
     },
     "execution_count": 28,
     "metadata": {},
     "output_type": "execute_result"
    }
   ],
   "source": [
    "transaction_df_writer.status"
   ]
  },
  {
   "cell_type": "code",
   "execution_count": 29,
   "id": "5ae17d9f-2473-4ad7-8083-6d2ee6f143a0",
   "metadata": {},
   "outputs": [
    {
     "name": "stdout",
     "output_type": "stream",
     "text": [
      "+-------------------+--------+--------+----------+-----+--------------------+--------------------+--------------------+-----------+-------------------+--------+------------+-------------+----------+----------+\n",
      "|          timestamp|  sender|receiver|    amount|__key|             __topic|         __messageId|       __publishTime|__eventTime|__messageProperties| bank_id| location_id|    full_name|license_id|   country|\n",
      "+-------------------+--------+--------+----------+-----+--------------------+--------------------+--------------------+-----------+-------------------+--------+------------+-------------+----------+----------+\n",
      "|2022-11-16 11:55:19|bank_222| bank_55|3659652.81| null|persistent://publ...|[08 0A 10 25 20 1...|2023-12-27 23:59:...|       null|                 {}|bank_222|location_593|full_name_222|   3467184|country_74|\n",
      "|2022-03-08 17:35:32|bank_222|bank_620|4084391.72| null|persistent://publ...|[08 0A 10 26 20 F...|2023-12-27 23:59:...|       null|                 {}|bank_222|location_593|full_name_222|   3467184|country_74|\n",
      "|2022-06-24 13:11:27|bank_222|bank_940|2739113.58| null|persistent://publ...|[08 0A 10 28 20 8...|2023-12-27 23:59:...|       null|                 {}|bank_222|location_593|full_name_222|   3467184|country_74|\n",
      "|2022-01-10 09:50:18|bank_222|bank_830|4607586.69| null|persistent://publ...|[08 0A 10 28 20 B...|2023-12-27 23:59:...|       null|                 {}|bank_222|location_593|full_name_222|   3467184|country_74|\n",
      "|2022-05-15 20:10:15|bank_222|bank_247| 874904.58| null|persistent://publ...|[08 0A 10 29 20 D...|2023-12-27 23:59:...|       null|                 {}|bank_222|location_593|full_name_222|   3467184|country_74|\n",
      "|2022-05-07 07:59:02|bank_222|bank_574|2340919.51| null|persistent://publ...|[08 0A 10 2B 20 9...|2023-12-27 23:59:...|       null|                 {}|bank_222|location_593|full_name_222|   3467184|country_74|\n",
      "|2022-05-29 21:11:39|bank_222|bank_682|2132070.45| null|persistent://publ...|[08 0A 10 2B 20 D...|2023-12-27 23:59:...|       null|                 {}|bank_222|location_593|full_name_222|   3467184|country_74|\n",
      "|2023-07-03 22:27:17|bank_222|bank_389| 995350.05| null|persistent://publ...|[08 0A 10 2B 20 8...|2023-12-27 23:59:...|       null|                 {}|bank_222|location_593|full_name_222|   3467184|country_74|\n",
      "|2023-11-26 21:46:18|bank_222|bank_204|4254446.64| null|persistent://publ...|[08 0A 10 2B 20 9...|2023-12-27 23:59:...|       null|                 {}|bank_222|location_593|full_name_222|   3467184|country_74|\n",
      "|2022-05-29 17:47:40|bank_222|bank_577| 479339.34| null|persistent://publ...|[08 0A 10 2C 20 F...|2023-12-27 23:59:...|       null|                 {}|bank_222|location_593|full_name_222|   3467184|country_74|\n",
      "|2022-01-18 11:50:45|bank_222| bank_67| 754691.18| null|persistent://publ...|[08 0A 10 2D 20 8...|2023-12-27 23:59:...|       null|                 {}|bank_222|location_593|full_name_222|   3467184|country_74|\n",
      "|2022-12-19 16:20:53|bank_222|bank_342|1466231.98| null|persistent://publ...|[08 0A 10 2D 20 9...|2023-12-27 23:59:...|       null|                 {}|bank_222|location_593|full_name_222|   3467184|country_74|\n",
      "|2022-06-24 17:47:29|bank_222|bank_742| 537831.53| null|persistent://publ...|[08 0A 10 30 20 9...|2023-12-27 23:59:...|       null|                 {}|bank_222|location_593|full_name_222|   3467184|country_74|\n",
      "|2023-10-07 12:52:01|bank_222|bank_342|1555117.31| null|persistent://publ...|[08 0A 10 30 20 E...|2023-12-27 23:59:...|       null|                 {}|bank_222|location_593|full_name_222|   3467184|country_74|\n",
      "|2022-12-30 05:32:01|bank_222| bank_67|2868875.72| null|persistent://publ...|[08 0A 10 31 20 E...|2023-12-27 23:59:...|       null|                 {}|bank_222|location_593|full_name_222|   3467184|country_74|\n",
      "|2022-09-29 22:53:10|bank_222|bank_152|3764968.87| null|persistent://publ...|[08 0A 10 31 20 E...|2023-12-27 23:59:...|       null|                 {}|bank_222|location_593|full_name_222|   3467184|country_74|\n",
      "|2022-02-02 02:23:02|bank_222|bank_466|4667213.93| null|persistent://publ...|[08 0A 10 33 20 A...|2023-12-27 23:59:...|       null|                 {}|bank_222|location_593|full_name_222|   3467184|country_74|\n",
      "|2022-01-02 07:34:04|bank_222|bank_989|2147587.53| null|persistent://publ...|[08 0A 10 33 20 B...|2023-12-27 23:59:...|       null|                 {}|bank_222|location_593|full_name_222|   3467184|country_74|\n",
      "|2023-01-31 23:39:58|bank_222|bank_414|1332735.86| null|persistent://publ...|[08 0A 10 33 20 8...|2023-12-27 23:59:...|       null|                 {}|bank_222|location_593|full_name_222|   3467184|country_74|\n",
      "|2023-04-17 04:58:59|bank_222|bank_334|1606765.93| null|persistent://publ...|[08 0A 10 33 20 B...|2023-12-27 23:59:...|       null|                 {}|bank_222|location_593|full_name_222|   3467184|country_74|\n",
      "+-------------------+--------+--------+----------+-----+--------------------+--------------------+--------------------+-----------+-------------------+--------+------------+-------------+----------+----------+\n",
      "only showing top 20 rows\n",
      "\n"
     ]
    }
   ],
   "source": [
    "spark.read.format(\"delta\").load(\"s3a://hw7/transaction_enriched/\").show()"
   ]
  },
  {
   "cell_type": "code",
   "execution_count": null,
   "id": "d486f17b-0b27-41f4-b9fa-3c03ddb521ce",
   "metadata": {},
   "outputs": [],
   "source": []
  }
 ],
 "metadata": {
  "kernelspec": {
   "display_name": "Python 3 (ipykernel)",
   "language": "python",
   "name": "python3"
  },
  "language_info": {
   "codemirror_mode": {
    "name": "ipython",
    "version": 3
   },
   "file_extension": ".py",
   "mimetype": "text/x-python",
   "name": "python",
   "nbconvert_exporter": "python",
   "pygments_lexer": "ipython3",
   "version": "3.11.4"
  }
 },
 "nbformat": 4,
 "nbformat_minor": 5
}
